{
 "cells": [
  {
   "cell_type": "code",
   "execution_count": 2,
   "source": [
    "from pathlib import Path\n",
    "import numpy as np\n",
    "import pandas as pd\n",
    "import cv2\n",
    "from PIL import Image\n",
    "import torch\n",
    "import torch.nn as nn\n",
    "import torch.optim as optim \n",
    "\n",
    "import torchvision\n",
    "from torch.utils.data import DataLoader, Dataset\n",
    "import torch.utils.data as utils\n",
    "from torchvision import transforms\n",
    "import matplotlib.pyplot as plt\n",
    "import numpy as np\n",
    "import pandas as pd\n",
    "\n"
   ],
   "outputs": [],
   "metadata": {}
  },
  {
   "cell_type": "code",
   "execution_count": 3,
   "source": [
    "dataset_path = Path('/home/deeplab/datasets/deepfashion/diordataset_custom')\n",
    "data = pd.read_csv(dataset_path/'annotation_index.csv', sep=';')\n",
    "data_pairs =pd.read_csv(dataset_path/'annotation_pairs.csv', sep=';')\n",
    "print(data.shape, data_pairs.shape)\n",
    "data.head(5)"
   ],
   "outputs": [
    {
     "output_type": "stream",
     "name": "stdout",
     "text": [
      "(36836, 8) (65644, 3)\n"
     ]
    },
    {
     "output_type": "execute_result",
     "data": {
      "text/html": [
       "<div>\n",
       "<style scoped>\n",
       "    .dataframe tbody tr th:only-of-type {\n",
       "        vertical-align: middle;\n",
       "    }\n",
       "\n",
       "    .dataframe tbody tr th {\n",
       "        vertical-align: top;\n",
       "    }\n",
       "\n",
       "    .dataframe thead th {\n",
       "        text-align: right;\n",
       "    }\n",
       "</style>\n",
       "<table border=\"1\" class=\"dataframe\">\n",
       "  <thead>\n",
       "    <tr style=\"text-align: right;\">\n",
       "      <th></th>\n",
       "      <th>image_file</th>\n",
       "      <th>image_group</th>\n",
       "      <th>keypoints_y</th>\n",
       "      <th>keypoints_x</th>\n",
       "      <th>img_height</th>\n",
       "      <th>img_width</th>\n",
       "      <th>gender</th>\n",
       "      <th>category</th>\n",
       "    </tr>\n",
       "  </thead>\n",
       "  <tbody>\n",
       "    <tr>\n",
       "      <th>0</th>\n",
       "      <td>/home/deeplab/datasets/deepfashion/diordataset...</td>\n",
       "      <td>id_00003241_01</td>\n",
       "      <td>[130, 246, 246, 390, 541, 246, 390, 534, 527, ...</td>\n",
       "      <td>[404, 407, 329, 308, 308, 486, 506, 527, 363, ...</td>\n",
       "      <td>1101</td>\n",
       "      <td>750</td>\n",
       "      <td>woman</td>\n",
       "      <td>Tees_Tanks</td>\n",
       "    </tr>\n",
       "    <tr>\n",
       "      <th>1</th>\n",
       "      <td>/home/deeplab/datasets/deepfashion/diordataset...</td>\n",
       "      <td>id_00003241_02</td>\n",
       "      <td>[128, 240, 240, 387, 527, 240, 387, 527, 513, ...</td>\n",
       "      <td>[362, 362, 278, 264, 264, 446, 460, 474, 320, ...</td>\n",
       "      <td>1101</td>\n",
       "      <td>750</td>\n",
       "      <td>woman</td>\n",
       "      <td>Tees_Tanks</td>\n",
       "    </tr>\n",
       "    <tr>\n",
       "      <th>2</th>\n",
       "      <td>/home/deeplab/datasets/deepfashion/diordataset...</td>\n",
       "      <td>id_00003241_02</td>\n",
       "      <td>[187, 350, 350, 609, 827, 350, 602, 834, 841, ...</td>\n",
       "      <td>[459, 364, 350, 398, 493, 378, 384, 487, 412, ...</td>\n",
       "      <td>1101</td>\n",
       "      <td>750</td>\n",
       "      <td>woman</td>\n",
       "      <td>Tees_Tanks</td>\n",
       "    </tr>\n",
       "    <tr>\n",
       "      <th>3</th>\n",
       "      <td>/home/deeplab/datasets/deepfashion/diordataset...</td>\n",
       "      <td>id_00003241_01</td>\n",
       "      <td>[176, 330, 330, 622, 845, 330, -1, 845, 838, 1...</td>\n",
       "      <td>[433, 332, 363, 440, 523, 300, -1, 503, 412, 5...</td>\n",
       "      <td>1101</td>\n",
       "      <td>750</td>\n",
       "      <td>woman</td>\n",
       "      <td>Tees_Tanks</td>\n",
       "    </tr>\n",
       "    <tr>\n",
       "      <th>4</th>\n",
       "      <td>/home/deeplab/datasets/deepfashion/diordataset...</td>\n",
       "      <td>id_00003241_02</td>\n",
       "      <td>[202, 389, 393, 647, 901, 386, 640, 901, 880, ...</td>\n",
       "      <td>[434, 427, 285, 250, 257, 568, 589, 617, 349, ...</td>\n",
       "      <td>1101</td>\n",
       "      <td>750</td>\n",
       "      <td>woman</td>\n",
       "      <td>Tees_Tanks</td>\n",
       "    </tr>\n",
       "  </tbody>\n",
       "</table>\n",
       "</div>"
      ],
      "text/plain": [
       "                                          image_file     image_group  \\\n",
       "0  /home/deeplab/datasets/deepfashion/diordataset...  id_00003241_01   \n",
       "1  /home/deeplab/datasets/deepfashion/diordataset...  id_00003241_02   \n",
       "2  /home/deeplab/datasets/deepfashion/diordataset...  id_00003241_02   \n",
       "3  /home/deeplab/datasets/deepfashion/diordataset...  id_00003241_01   \n",
       "4  /home/deeplab/datasets/deepfashion/diordataset...  id_00003241_02   \n",
       "\n",
       "                                         keypoints_y  \\\n",
       "0  [130, 246, 246, 390, 541, 246, 390, 534, 527, ...   \n",
       "1  [128, 240, 240, 387, 527, 240, 387, 527, 513, ...   \n",
       "2  [187, 350, 350, 609, 827, 350, 602, 834, 841, ...   \n",
       "3  [176, 330, 330, 622, 845, 330, -1, 845, 838, 1...   \n",
       "4  [202, 389, 393, 647, 901, 386, 640, 901, 880, ...   \n",
       "\n",
       "                                         keypoints_x  img_height  img_width  \\\n",
       "0  [404, 407, 329, 308, 308, 486, 506, 527, 363, ...        1101        750   \n",
       "1  [362, 362, 278, 264, 264, 446, 460, 474, 320, ...        1101        750   \n",
       "2  [459, 364, 350, 398, 493, 378, 384, 487, 412, ...        1101        750   \n",
       "3  [433, 332, 363, 440, 523, 300, -1, 503, 412, 5...        1101        750   \n",
       "4  [434, 427, 285, 250, 257, 568, 589, 617, 349, ...        1101        750   \n",
       "\n",
       "  gender    category  \n",
       "0  woman  Tees_Tanks  \n",
       "1  woman  Tees_Tanks  \n",
       "2  woman  Tees_Tanks  \n",
       "3  woman  Tees_Tanks  \n",
       "4  woman  Tees_Tanks  "
      ]
     },
     "metadata": {},
     "execution_count": 3
    }
   ],
   "metadata": {}
  },
  {
   "cell_type": "code",
   "execution_count": 4,
   "source": [
    "#catgories\n",
    "seg_labels = {'background': 0, 'hat':1, 'hair': 2,  'face': 3, 'upper-clothes':4,\n",
    "               'pants': 5, 'arm': 6, 'leg': 7, 'shoes':8,}\n",
    "print(data[['category']].groupby(['category']).size().sort_values(ascending=False).reset_index())\n",
    "data[['category']].groupby(['category']).size().sort_values(ascending=False).reset_index().category.to_list()\n",
    "deepfashion_tops =set(['Tees_Tanks',\n",
    "    'Blouses_Shirts',\n",
    "    'Dresses',\n",
    "    'Sweaters',\n",
    "    'Jackets_Coats',\n",
    "    'Sweatshirts_Hoodies',\n",
    "    'Rompers_Jumpsuits',\n",
    "    'Cardigans',\n",
    "    'Graphic_Tees',\n",
    "    'Shirts_Polos',\n",
    "    'Jackets_Vests',\n",
    "    'Suiting'])\n",
    "\n",
    "deepfashion_bottoms = set([ 'Shorts',\n",
    "    'Pants',\n",
    "    'Skirts',\n",
    "    'Denim',\n",
    "    'Leggings',\n",
    "    'Suiting'])\n",
    "def label_from_category(category):\n",
    "    if category in deepfashion_bottoms: return seg_labels['pants']\n",
    "    if category in deepfashion_tops: return seg_labels['upper-clothes']\n",
    "    return -1\n",
    "    "
   ],
   "outputs": [
    {
     "output_type": "stream",
     "name": "stdout",
     "text": [
      "               category     0\n",
      "0            Tees_Tanks  9496\n",
      "1               Dresses  6182\n",
      "2        Blouses_Shirts  5334\n",
      "3                Shorts  2885\n",
      "4              Sweaters  2490\n",
      "5                 Pants  1881\n",
      "6         Jackets_Coats  1431\n",
      "7     Rompers_Jumpsuits  1364\n",
      "8                Skirts  1265\n",
      "9             Cardigans  1131\n",
      "10  Sweatshirts_Hoodies  1067\n",
      "11         Graphic_Tees   817\n",
      "12                Denim   539\n",
      "13         Shirts_Polos   405\n",
      "14        Jackets_Vests   281\n",
      "15             Leggings   243\n",
      "16              Suiting    25\n"
     ]
    }
   ],
   "metadata": {}
  },
  {
   "cell_type": "code",
   "execution_count": 5,
   "source": [
    "\n",
    "from efficientnet_pytorch import EfficientNet\n",
    "model = EfficientNet.from_pretrained('efficientnet-b3')\n",
    "list(reversed(list(model.modules())))[:10]"
   ],
   "outputs": [
    {
     "output_type": "stream",
     "name": "stdout",
     "text": [
      "Loaded pretrained weights for efficientnet-b3\n"
     ]
    },
    {
     "output_type": "execute_result",
     "data": {
      "text/plain": [
       "[MemoryEfficientSwish(),\n",
       " Linear(in_features=1536, out_features=1000, bias=True),\n",
       " Dropout(p=0.3, inplace=False),\n",
       " AdaptiveAvgPool2d(output_size=1),\n",
       " BatchNorm2d(1536, eps=0.001, momentum=0.010000000000000009, affine=True, track_running_stats=True),\n",
       " Identity(),\n",
       " Conv2dStaticSamePadding(\n",
       "   384, 1536, kernel_size=(1, 1), stride=(1, 1), bias=False\n",
       "   (static_padding): Identity()\n",
       " ),\n",
       " MemoryEfficientSwish(),\n",
       " BatchNorm2d(384, eps=0.001, momentum=0.010000000000000009, affine=True, track_running_stats=True),\n",
       " Identity()]"
      ]
     },
     "metadata": {},
     "execution_count": 5
    }
   ],
   "metadata": {}
  },
  {
   "cell_type": "code",
   "execution_count": 15,
   "source": [
    "img_path = data.iloc[1100,0]\n",
    "print(img_path)\n",
    "img_rgb = cv2.imread(img_path)[:,:,[2,1,0]]\n",
    "# img_rgb= Image.open(img_path)\n",
    "\n",
    "seg_labels = {'background': 0, 'hat':1, 'hair': 2,  'face': 3, 'upper-clothes':4,\n",
    "               'pants': 5, 'arm': 6, 'leg': 7, 'shoes':8}\n",
    "# seg = np.load(img_path + '.seg.npz')['mask']\n",
    "seg = np.array(Image.open(img_path + '.seg3.render.png'))\n",
    "\n",
    "print(seg.shape, np.unique(seg, return_counts=True))\n",
    "plt.imshow(img_rgb)\n",
    "plt.show()\n",
    "label = 4#seg_labels['pants']\n",
    "plt.imshow(seg*(seg==label))\n",
    "plt.show()\n",
    "plt.imshow((seg==label)[...,np.newaxis] * img_rgb)\n",
    "garment_img = (seg==label)[...,np.newaxis] * img_rgb"
   ],
   "outputs": [
    {
     "output_type": "stream",
     "name": "stdout",
     "text": [
      "/home/deeplab/datasets/deepfashion/diordataset_custom/img_highres/WOMEN/Tees_Tanks/id_00001923/02_1_front.jpg\n",
      "(1101, 750) (array([0, 2, 3, 4, 5, 6, 7, 9], dtype=uint8), array([496028,  14511,  18717, 170318,   7280,  75360,  33382,  10154]))\n"
     ]
    },
    {
     "output_type": "display_data",
     "data": {
      "image/png": "[encoded data removed]",
      "text/plain": [
       "<Figure size 432x288 with 1 Axes>"
      ]
     },
     "metadata": {
      "needs_background": "light"
     }
    },
    {
     "output_type": "display_data",
     "data": {
      "image/png": "[encoded data removed]",
      "text/plain": [
       "<Figure size 432x288 with 1 Axes>"
      ]
     },
     "metadata": {
      "needs_background": "light"
     }
    },
    {
     "output_type": "display_data",
     "data": {
      "image/png": "[encoded data removed]",
      "text/plain": [
       "<Figure size 432x288 with 1 Axes>"
      ]
     },
     "metadata": {
      "needs_background": "light"
     }
    }
   ],
   "metadata": {}
  },
  {
   "cell_type": "code",
   "execution_count": 109,
   "source": [
    "data[data.image_file.str.contains('_flat', regex=False)][:10]"
   ],
   "outputs": [
    {
     "output_type": "execute_result",
     "data": {
      "text/html": [
       "<div>\n",
       "<style scoped>\n",
       "    .dataframe tbody tr th:only-of-type {\n",
       "        vertical-align: middle;\n",
       "    }\n",
       "\n",
       "    .dataframe tbody tr th {\n",
       "        vertical-align: top;\n",
       "    }\n",
       "\n",
       "    .dataframe thead th {\n",
       "        text-align: right;\n",
       "    }\n",
       "</style>\n",
       "<table border=\"1\" class=\"dataframe\">\n",
       "  <thead>\n",
       "    <tr style=\"text-align: right;\">\n",
       "      <th></th>\n",
       "      <th>image_file</th>\n",
       "      <th>image_group</th>\n",
       "      <th>keypoints_y</th>\n",
       "      <th>keypoints_x</th>\n",
       "      <th>img_height</th>\n",
       "      <th>img_width</th>\n",
       "      <th>gender</th>\n",
       "      <th>category</th>\n",
       "    </tr>\n",
       "  </thead>\n",
       "  <tbody>\n",
       "    <tr>\n",
       "      <th>1855</th>\n",
       "      <td>/home/deeplab/datasets/deepfashion/diordataset...</td>\n",
       "      <td>id_00003371_05</td>\n",
       "      <td>[88, 199, 202, -1, -1, 195, -1, -1, 809, -1, -...</td>\n",
       "      <td>[383, 373, 163, -1, -1, 583, -1, -1, 236, -1, ...</td>\n",
       "      <td>1101</td>\n",
       "      <td>750</td>\n",
       "      <td>woman</td>\n",
       "      <td>Tees_Tanks</td>\n",
       "    </tr>\n",
       "    <tr>\n",
       "      <th>8773</th>\n",
       "      <td>/home/deeplab/datasets/deepfashion/diordataset...</td>\n",
       "      <td>id_00004611_02</td>\n",
       "      <td>[107, 299, 296, 592, 875, 302, 586, 893, 781, ...</td>\n",
       "      <td>[356, 365, 196, 131, 90, 533, 592, 663, 267, -...</td>\n",
       "      <td>1101</td>\n",
       "      <td>750</td>\n",
       "      <td>woman</td>\n",
       "      <td>Sweatshirts_Hoodies</td>\n",
       "    </tr>\n",
       "    <tr>\n",
       "      <th>8931</th>\n",
       "      <td>/home/deeplab/datasets/deepfashion/diordataset...</td>\n",
       "      <td>id_00003798_02</td>\n",
       "      <td>[328, 395, 395, 641, 851, 395, 635, 857, 821, ...</td>\n",
       "      <td>[379, 370, 223, 162, 114, 517, 571, 619, 277, ...</td>\n",
       "      <td>1101</td>\n",
       "      <td>750</td>\n",
       "      <td>woman</td>\n",
       "      <td>Sweatshirts_Hoodies</td>\n",
       "    </tr>\n",
       "    <tr>\n",
       "      <th>8985</th>\n",
       "      <td>/home/deeplab/datasets/deepfashion/diordataset...</td>\n",
       "      <td>id_00000139_02</td>\n",
       "      <td>[82, 270, 273, 575, 852, 267, 587, 852, 747, -...</td>\n",
       "      <td>[400, 384, 215, 147, 116, 554, 615, 634, 276, ...</td>\n",
       "      <td>1101</td>\n",
       "      <td>750</td>\n",
       "      <td>woman</td>\n",
       "      <td>Sweatshirts_Hoodies</td>\n",
       "    </tr>\n",
       "    <tr>\n",
       "      <th>9076</th>\n",
       "      <td>/home/deeplab/datasets/deepfashion/diordataset...</td>\n",
       "      <td>id_00004007_01</td>\n",
       "      <td>[110, 292, 298, 567, 798, 287, 545, 825, 803, ...</td>\n",
       "      <td>[377, 380, 216, 168, 141, 544, 614, 646, 291, ...</td>\n",
       "      <td>1101</td>\n",
       "      <td>750</td>\n",
       "      <td>woman</td>\n",
       "      <td>Sweatshirts_Hoodies</td>\n",
       "    </tr>\n",
       "    <tr>\n",
       "      <th>9131</th>\n",
       "      <td>/home/deeplab/datasets/deepfashion/diordataset...</td>\n",
       "      <td>id_00003708_01</td>\n",
       "      <td>[245, 786, 811, 1683, 2459, 762, 1619, 2459, 2...</td>\n",
       "      <td>[1081, 1057, 580, 387, 306, 1534, 1776, 1841, ...</td>\n",
       "      <td>3205</td>\n",
       "      <td>2136</td>\n",
       "      <td>woman</td>\n",
       "      <td>Sweatshirts_Hoodies</td>\n",
       "    </tr>\n",
       "    <tr>\n",
       "      <th>11888</th>\n",
       "      <td>/home/deeplab/datasets/deepfashion/diordataset...</td>\n",
       "      <td>id_00001053_03</td>\n",
       "      <td>[154, 408, 356, 600, 872, 461, 837, 928, 886, ...</td>\n",
       "      <td>[347, 382, 179, 19, 5, 584, 668, 619, 151, -1,...</td>\n",
       "      <td>1101</td>\n",
       "      <td>750</td>\n",
       "      <td>woman</td>\n",
       "      <td>Jackets_Coats</td>\n",
       "    </tr>\n",
       "    <tr>\n",
       "      <th>17388</th>\n",
       "      <td>/home/deeplab/datasets/deepfashion/diordataset...</td>\n",
       "      <td>id_00004777_02</td>\n",
       "      <td>[83, 284, 290, 585, 840, 278, 562, 840, 798, -...</td>\n",
       "      <td>[359, 368, 193, 116, 98, 542, 637, 654, 264, -...</td>\n",
       "      <td>1101</td>\n",
       "      <td>750</td>\n",
       "      <td>woman</td>\n",
       "      <td>Cardigans</td>\n",
       "    </tr>\n",
       "    <tr>\n",
       "      <th>18136</th>\n",
       "      <td>/home/deeplab/datasets/deepfashion/diordataset...</td>\n",
       "      <td>id_00004535_01</td>\n",
       "      <td>[152, 323, 331, 569, 777, 314, 534, 760, 765, ...</td>\n",
       "      <td>[338, 352, 204, 152, 106, 500, 581, 656, 268, ...</td>\n",
       "      <td>1101</td>\n",
       "      <td>750</td>\n",
       "      <td>woman</td>\n",
       "      <td>Graphic_Tees</td>\n",
       "    </tr>\n",
       "    <tr>\n",
       "      <th>18194</th>\n",
       "      <td>/home/deeplab/datasets/deepfashion/diordataset...</td>\n",
       "      <td>id_00002835_01</td>\n",
       "      <td>[-1, 282, 285, -1, -1, 279, 464, -1, 874, -1, ...</td>\n",
       "      <td>[-1, 370, 171, -1, -1, 569, 712, -1, 266, -1, ...</td>\n",
       "      <td>1101</td>\n",
       "      <td>750</td>\n",
       "      <td>woman</td>\n",
       "      <td>Graphic_Tees</td>\n",
       "    </tr>\n",
       "  </tbody>\n",
       "</table>\n",
       "</div>"
      ],
      "text/plain": [
       "                                              image_file     image_group  \\\n",
       "1855   /home/deeplab/datasets/deepfashion/diordataset...  id_00003371_05   \n",
       "8773   /home/deeplab/datasets/deepfashion/diordataset...  id_00004611_02   \n",
       "8931   /home/deeplab/datasets/deepfashion/diordataset...  id_00003798_02   \n",
       "8985   /home/deeplab/datasets/deepfashion/diordataset...  id_00000139_02   \n",
       "9076   /home/deeplab/datasets/deepfashion/diordataset...  id_00004007_01   \n",
       "9131   /home/deeplab/datasets/deepfashion/diordataset...  id_00003708_01   \n",
       "11888  /home/deeplab/datasets/deepfashion/diordataset...  id_00001053_03   \n",
       "17388  /home/deeplab/datasets/deepfashion/diordataset...  id_00004777_02   \n",
       "18136  /home/deeplab/datasets/deepfashion/diordataset...  id_00004535_01   \n",
       "18194  /home/deeplab/datasets/deepfashion/diordataset...  id_00002835_01   \n",
       "\n",
       "                                             keypoints_y  \\\n",
       "1855   [88, 199, 202, -1, -1, 195, -1, -1, 809, -1, -...   \n",
       "8773   [107, 299, 296, 592, 875, 302, 586, 893, 781, ...   \n",
       "8931   [328, 395, 395, 641, 851, 395, 635, 857, 821, ...   \n",
       "8985   [82, 270, 273, 575, 852, 267, 587, 852, 747, -...   \n",
       "9076   [110, 292, 298, 567, 798, 287, 545, 825, 803, ...   \n",
       "9131   [245, 786, 811, 1683, 2459, 762, 1619, 2459, 2...   \n",
       "11888  [154, 408, 356, 600, 872, 461, 837, 928, 886, ...   \n",
       "17388  [83, 284, 290, 585, 840, 278, 562, 840, 798, -...   \n",
       "18136  [152, 323, 331, 569, 777, 314, 534, 760, 765, ...   \n",
       "18194  [-1, 282, 285, -1, -1, 279, 464, -1, 874, -1, ...   \n",
       "\n",
       "                                             keypoints_x  img_height  \\\n",
       "1855   [383, 373, 163, -1, -1, 583, -1, -1, 236, -1, ...        1101   \n",
       "8773   [356, 365, 196, 131, 90, 533, 592, 663, 267, -...        1101   \n",
       "8931   [379, 370, 223, 162, 114, 517, 571, 619, 277, ...        1101   \n",
       "8985   [400, 384, 215, 147, 116, 554, 615, 634, 276, ...        1101   \n",
       "9076   [377, 380, 216, 168, 141, 544, 614, 646, 291, ...        1101   \n",
       "9131   [1081, 1057, 580, 387, 306, 1534, 1776, 1841, ...        3205   \n",
       "11888  [347, 382, 179, 19, 5, 584, 668, 619, 151, -1,...        1101   \n",
       "17388  [359, 368, 193, 116, 98, 542, 637, 654, 264, -...        1101   \n",
       "18136  [338, 352, 204, 152, 106, 500, 581, 656, 268, ...        1101   \n",
       "18194  [-1, 370, 171, -1, -1, 569, 712, -1, 266, -1, ...        1101   \n",
       "\n",
       "       img_width gender             category  \n",
       "1855         750  woman           Tees_Tanks  \n",
       "8773         750  woman  Sweatshirts_Hoodies  \n",
       "8931         750  woman  Sweatshirts_Hoodies  \n",
       "8985         750  woman  Sweatshirts_Hoodies  \n",
       "9076         750  woman  Sweatshirts_Hoodies  \n",
       "9131        2136  woman  Sweatshirts_Hoodies  \n",
       "11888        750  woman        Jackets_Coats  \n",
       "17388        750  woman            Cardigans  \n",
       "18136        750  woman         Graphic_Tees  \n",
       "18194        750  woman         Graphic_Tees  "
      ]
     },
     "metadata": {},
     "execution_count": 109
    }
   ],
   "metadata": {}
  },
  {
   "cell_type": "code",
   "execution_count": 37,
   "source": [
    "img_path=data.iloc[8931,0]\n",
    "print(img_path)\n",
    "def get_positive_pairs(image_file):\n",
    "    category=data[data.image_file==image_file][:1].category.item()\n",
    "    group_id = data[data.image_file==image_file][:1].image_group.item()\n",
    "    grouped_ = data[data.image_group==group_id]\n",
    "    files= grouped_[grouped_.image_file!=image_file].image_file.to_list()\n",
    "    return category, files\n",
    "\n",
    "category, img_files = get_positive_pairs(img_path)\n",
    "print(category, img_files)\n",
    "# data[data['image_group']==data[data['image_file']==img_path]['image_group']\n",
    "# grouped_=pd.merge(data,data[data.image_file==img_path].image_group)\n"
   ],
   "outputs": [
    {
     "output_type": "stream",
     "name": "stdout",
     "text": [
      "/home/deeplab/datasets/deepfashion/diordataset_custom/img_highres/WOMEN/Pants/id_00000878/01_1_front.jpg\n",
      "Pants ['/home/deeplab/datasets/deepfashion/diordataset_custom/img_highres/WOMEN/Pants/id_00000878/01_7_additional.jpg']\n"
     ]
    }
   ],
   "metadata": {}
  },
  {
   "cell_type": "code",
   "execution_count": 41,
   "source": [
    "def bbox(img):\n",
    "    a = np.where(img != 0)\n",
    "    if a[0].size==0 or a[1].size==0 :\n",
    "        return None\n",
    "    bbox = np.min(a[0]), np.max(a[0]), np.min(a[1]), np.max(a[1])\n",
    "    return bbox\n",
    "\n",
    "def garment_embedding(image_path, label):\n",
    "    img_rgb = cv2.imread(image_path)[:,:,[2,1,0]]\n",
    "    # seg = np.load(image_path + '.seg.npz')['mask']\n",
    "    seg = np.array(Image.open(image_path + '.seg3.render.png'))\n",
    "    bbox_img = bbox(seg*(seg==label))\n",
    "    if bbox_img is None:\n",
    "        return None\n",
    "    print(bbox)\n",
    "    garment_img= ((seg==label)[...,np.newaxis] * img_rgb)[bbox_img[0]:bbox_img[1],bbox_img[2]:bbox_img[3],:]\n",
    "    # garment_img = (img_rgb)[bbox_img[0]:bbox_img[1],bbox_img[2]:bbox_img[3],:]\n",
    "    print(cv2.resize(img_rgb,(garment_img.shape[1],garment_img.shape[0])).shape,garment_img.shape)\n",
    "    plt.imshow(np.concatenate((cv2.resize(img_rgb,(garment_img.shape[1],garment_img.shape[0])),garment_img),1))\n",
    "    plt.show()\n",
    "    tfms = transforms.Compose([transforms.Resize(size=(224,224)), transforms.ToTensor(),\n",
    "        transforms.Normalize([0.485, 0.456, 0.406], [0.229, 0.224, 0.225]),])\n",
    "    img = tfms(Image.fromarray(garment_img, mode ='RGB')).unsqueeze(0)\n",
    "    print(img.shape)\n",
    "    model.eval()\n",
    "    with torch.no_grad():\n",
    "        outputs = model.extract_features(img)\n",
    "    n,c,h,w = outputs.shape\n",
    "    return nn.AdaptiveAvgPool2d(output_size=1)(outputs).view(n,c)\n",
    "\n",
    "emb1=garment_embedding(img_path,5)\n",
    "emb2=garment_embedding(img_files[1],5)\n",
    "emb3=garment_embedding(data.iloc[8937,0],5)\n",
    "# bbox_img = bbox(seg*(seg==label))\n",
    "# if bbox_img is not None:\n",
    "#     garment_img= ((seg==label)[...,np.newaxis] * img_rgb)[bbox_img[0]:bbox_img[1],bbox_img[2]:bbox_img[3],:]\n",
    "#     print(bbox_img)\n",
    "#     print(garment_img.shape)\n",
    "# garment_img[bbox_img[0]:bbox_img[0]\n",
    "# np.sum(np.power(emb1-emb2,2),keepdims=False)\n",
    "np.linalg.norm(emb1-emb2),np.linalg.norm(emb1-emb3),"
   ],
   "outputs": [
    {
     "output_type": "error",
     "ename": "IndexError",
     "evalue": "list index out of range",
     "traceback": [
      "\u001b[0;31m---------------------------------------------------------------------------\u001b[0m",
      "\u001b[0;31mIndexError\u001b[0m                                Traceback (most recent call last)",
      "\u001b[0;32m<ipython-input-41-6434c6f68fb4>\u001b[0m in \u001b[0;36m<module>\u001b[0;34m\u001b[0m\n\u001b[1;32m     30\u001b[0m \u001b[0;34m\u001b[0m\u001b[0m\n\u001b[1;32m     31\u001b[0m \u001b[0memb1\u001b[0m\u001b[0;34m=\u001b[0m\u001b[0mgarment_embedding\u001b[0m\u001b[0;34m(\u001b[0m\u001b[0mimg_path\u001b[0m\u001b[0;34m,\u001b[0m\u001b[0;36m5\u001b[0m\u001b[0;34m)\u001b[0m\u001b[0;34m\u001b[0m\u001b[0;34m\u001b[0m\u001b[0m\n\u001b[0;32m---> 32\u001b[0;31m \u001b[0memb2\u001b[0m\u001b[0;34m=\u001b[0m\u001b[0mgarment_embedding\u001b[0m\u001b[0;34m(\u001b[0m\u001b[0mimg_files\u001b[0m\u001b[0;34m[\u001b[0m\u001b[0;36m1\u001b[0m\u001b[0;34m]\u001b[0m\u001b[0;34m,\u001b[0m\u001b[0;36m5\u001b[0m\u001b[0;34m)\u001b[0m\u001b[0;34m\u001b[0m\u001b[0;34m\u001b[0m\u001b[0m\n\u001b[0m\u001b[1;32m     33\u001b[0m \u001b[0memb3\u001b[0m\u001b[0;34m=\u001b[0m\u001b[0mgarment_embedding\u001b[0m\u001b[0;34m(\u001b[0m\u001b[0mdata\u001b[0m\u001b[0;34m.\u001b[0m\u001b[0miloc\u001b[0m\u001b[0;34m[\u001b[0m\u001b[0;36m8937\u001b[0m\u001b[0;34m,\u001b[0m\u001b[0;36m0\u001b[0m\u001b[0;34m]\u001b[0m\u001b[0;34m,\u001b[0m\u001b[0;36m5\u001b[0m\u001b[0;34m)\u001b[0m\u001b[0;34m\u001b[0m\u001b[0;34m\u001b[0m\u001b[0m\n\u001b[1;32m     34\u001b[0m \u001b[0;31m# bbox_img = bbox(seg*(seg==label))\u001b[0m\u001b[0;34m\u001b[0m\u001b[0;34m\u001b[0m\u001b[0;34m\u001b[0m\u001b[0m\n",
      "\u001b[0;31mIndexError\u001b[0m: list index out of range"
     ]
    }
   ],
   "metadata": {}
  },
  {
   "cell_type": "code",
   "execution_count": null,
   "source": [],
   "outputs": [],
   "metadata": {}
  },
  {
   "cell_type": "code",
   "execution_count": 7,
   "source": [
    "tfms = transforms.Compose([transforms.Resize(224), transforms.ToTensor(),\n",
    "    transforms.Normalize([0.485, 0.456, 0.406], [0.229, 0.224, 0.225]),])\n",
    "img = tfms(Image.fromarray(garment_img, mode ='RGB')).unsqueeze(0)\n",
    "print(img.shape)\n",
    "model.eval()\n",
    "with torch.no_grad():\n",
    "    outputs = model.extract_features(img)\n",
    "n,c,h,w = outputs.shape\n",
    "print(outputs.shape)\n",
    "nn.AdaptiveAvgPool2d(output_size=1)(outputs).view(n,c)\n"
   ],
   "outputs": [
    {
     "output_type": "stream",
     "name": "stdout",
     "text": [
      "torch.Size([1, 3, 298, 224])\n",
      "torch.Size([1, 1536, 9, 7])\n"
     ]
    },
    {
     "output_type": "execute_result",
     "data": {
      "text/plain": [
       "tensor([[ 0.3801, -0.1670, -0.2177,  ..., -0.2288, -0.1014,  0.4301]])"
      ]
     },
     "metadata": {},
     "execution_count": 7
    }
   ],
   "metadata": {}
  },
  {
   "cell_type": "code",
   "execution_count": 114,
   "source": [
    "def "
   ],
   "outputs": [
    {
     "output_type": "error",
     "ename": "AttributeError",
     "evalue": "'numpy.ndarray' object has no attribute 'numel'",
     "traceback": [
      "\u001b[0;31m---------------------------------------------------------------------------\u001b[0m",
      "\u001b[0;31mAttributeError\u001b[0m                            Traceback (most recent call last)",
      "\u001b[0;32m<ipython-input-114-0f3cfac318e6>\u001b[0m in \u001b[0;36m<module>\u001b[0;34m\u001b[0m\n\u001b[0;32m----> 1\u001b[0;31m \u001b[0mnp\u001b[0m\u001b[0;34m.\u001b[0m\u001b[0mwhere\u001b[0m\u001b[0;34m(\u001b[0m\u001b[0mnp\u001b[0m\u001b[0;34m.\u001b[0m\u001b[0mzeros_like\u001b[0m\u001b[0;34m(\u001b[0m\u001b[0mseg\u001b[0m\u001b[0;34m*\u001b[0m\u001b[0;34m(\u001b[0m\u001b[0mseg\u001b[0m\u001b[0;34m==\u001b[0m\u001b[0mlabel\u001b[0m\u001b[0;34m)\u001b[0m\u001b[0;34m)\u001b[0m\u001b[0;34m!=\u001b[0m\u001b[0;36m0\u001b[0m\u001b[0;34m)\u001b[0m\u001b[0;34m[\u001b[0m\u001b[0;36m0\u001b[0m\u001b[0;34m]\u001b[0m\u001b[0;34m.\u001b[0m\u001b[0mnumel\u001b[0m\u001b[0;34m(\u001b[0m\u001b[0;34m)\u001b[0m\u001b[0;34m\u001b[0m\u001b[0;34m\u001b[0m\u001b[0m\n\u001b[0m",
      "\u001b[0;31mAttributeError\u001b[0m: 'numpy.ndarray' object has no attribute 'numel'"
     ]
    }
   ],
   "metadata": {}
  },
  {
   "cell_type": "code",
   "execution_count": 7,
   "source": [
    "tfms = transforms.Compose([transforms.Resize(224), transforms.ToTensor(),\n",
    "    transforms.Normalize([0.485, 0.456, 0.406], [0.229, 0.224, 0.225]),])\n",
    "img = tfms(img_rgb).unsqueeze(0)\n",
    "print(img.shape)\n",
    "model.eval()\n",
    "with torch.no_grad():\n",
    "    outputs = model.extract_features(img)\n",
    "n,c,h,w = outputs.shape\n",
    "print(outputs.shape)\n",
    "nn.AdaptiveAvgPool2d(output_size=1)(outputs).view(n,c)"
   ],
   "outputs": [
    {
     "output_type": "error",
     "ename": "NameError",
     "evalue": "name 'img_rgb' is not defined",
     "traceback": [
      "\u001b[0;31m---------------------------------------------------------------------------\u001b[0m",
      "\u001b[0;31mNameError\u001b[0m                                 Traceback (most recent call last)",
      "\u001b[0;32m<ipython-input-7-c1429649e0ed>\u001b[0m in \u001b[0;36m<module>\u001b[0;34m\u001b[0m\n\u001b[1;32m      1\u001b[0m tfms = transforms.Compose([transforms.Resize(224), transforms.ToTensor(),\n\u001b[1;32m      2\u001b[0m     transforms.Normalize([0.485, 0.456, 0.406], [0.229, 0.224, 0.225]),])\n\u001b[0;32m----> 3\u001b[0;31m \u001b[0mimg\u001b[0m \u001b[0;34m=\u001b[0m \u001b[0mtfms\u001b[0m\u001b[0;34m(\u001b[0m\u001b[0mimg_rgb\u001b[0m\u001b[0;34m)\u001b[0m\u001b[0;34m.\u001b[0m\u001b[0munsqueeze\u001b[0m\u001b[0;34m(\u001b[0m\u001b[0;36m0\u001b[0m\u001b[0;34m)\u001b[0m\u001b[0;34m\u001b[0m\u001b[0;34m\u001b[0m\u001b[0m\n\u001b[0m\u001b[1;32m      4\u001b[0m \u001b[0mprint\u001b[0m\u001b[0;34m(\u001b[0m\u001b[0mimg\u001b[0m\u001b[0;34m.\u001b[0m\u001b[0mshape\u001b[0m\u001b[0;34m)\u001b[0m\u001b[0;34m\u001b[0m\u001b[0;34m\u001b[0m\u001b[0m\n\u001b[1;32m      5\u001b[0m \u001b[0mmodel\u001b[0m\u001b[0;34m.\u001b[0m\u001b[0meval\u001b[0m\u001b[0;34m(\u001b[0m\u001b[0;34m)\u001b[0m\u001b[0;34m\u001b[0m\u001b[0;34m\u001b[0m\u001b[0m\n",
      "\u001b[0;31mNameError\u001b[0m: name 'img_rgb' is not defined"
     ]
    }
   ],
   "metadata": {}
  },
  {
   "cell_type": "code",
   "execution_count": null,
   "source": [],
   "outputs": [],
   "metadata": {}
  },
  {
   "cell_type": "code",
   "execution_count": 49,
   "source": [
    "list(reversed(list(model.modules())))[:10]"
   ],
   "outputs": [
    {
     "output_type": "execute_result",
     "data": {
      "text/plain": [
       "[MemoryEfficientSwish(),\n",
       " Linear(in_features=1536, out_features=1000, bias=True),\n",
       " Dropout(p=0.3, inplace=False),\n",
       " AdaptiveAvgPool2d(output_size=1),\n",
       " BatchNorm2d(1536, eps=0.001, momentum=0.010000000000000009, affine=True, track_running_stats=True),\n",
       " Identity(),\n",
       " Conv2dStaticSamePadding(\n",
       "   384, 1536, kernel_size=(1, 1), stride=(1, 1), bias=False\n",
       "   (static_padding): Identity()\n",
       " ),\n",
       " MemoryEfficientSwish(),\n",
       " BatchNorm2d(384, eps=0.001, momentum=0.010000000000000009, affine=True, track_running_stats=True),\n",
       " Identity()]"
      ]
     },
     "metadata": {},
     "execution_count": 49
    }
   ],
   "metadata": {}
  }
 ],
 "metadata": {
  "orig_nbformat": 4,
  "language_info": {
   "name": "python",
   "version": "3.8.8",
   "mimetype": "text/x-python",
   "codemirror_mode": {
    "name": "ipython",
    "version": 3
   },
   "pygments_lexer": "ipython3",
   "nbconvert_exporter": "python",
   "file_extension": ".py"
  },
  "kernelspec": {
   "name": "python3",
   "display_name": "Python 3.8.8 64-bit ('deep': conda)"
  },
  "interpreter": {
   "hash": "c8814a96fcc45ea5ac0523b38989c538af3857e175a645061e2ffa7ac4bf5cef"
  }
 },
 "nbformat": 4,
 "nbformat_minor": 2
}